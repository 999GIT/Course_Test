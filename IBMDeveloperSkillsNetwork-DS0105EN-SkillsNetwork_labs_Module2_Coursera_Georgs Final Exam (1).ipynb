{
  "metadata": {
    "language_info": {
      "codemirror_mode": {
        "name": "javascript"
      },
      "file_extension": ".js",
      "mimetype": "text/javascript",
      "name": "javascript",
      "nbconvert_exporter": "javascript",
      "pygments_lexer": "javascript",
      "version": "es2017"
    },
    "kernelspec": {
      "name": "javascript",
      "display_name": "JavaScript",
      "language": "javascript"
    }
  },
  "nbformat_minor": 4,
  "nbformat": 4,
  "cells": [
    {
      "cell_type": "markdown",
      "source": "<h1>My Jupyter Notebook on IBM Watson Studio</h1>",
      "metadata": {}
    },
    {
      "cell_type": "markdown",
      "source": "<b>Georg</b>",
      "metadata": {}
    },
    {
      "cell_type": "markdown",
      "source": "Data Scientist",
      "metadata": {}
    },
    {
      "cell_type": "markdown",
      "source": "<i>I am interested in data science because is helps me to contribute further in the filed of opimizing the cargo transpoation flow worldwide</i>",
      "metadata": {}
    },
    {
      "cell_type": "markdown",
      "source": "<h3>my code is supposted to say hello to the beginners</h3>",
      "metadata": {}
    },
    {
      "cell_type": "code",
      "source": "salut = \"hello\" \nstatus = \"beginners!\"\nprint(salut, status)",
      "metadata": {
        "trusted": true
      },
      "execution_count": null,
      "outputs": []
    },
    {
      "cell_type": "markdown",
      "source": "hello beginners!",
      "metadata": {}
    },
    {
      "cell_type": "markdown",
      "source": "| ~~hello beginners.~~ | _hello experts_ | \n| --- | --- | \n| ~~_hello apprendices_~~  |  **_hello apprendices_**\n\n[I'm an inline-style link](https://www.google.com)  ",
      "metadata": {}
    },
    {
      "cell_type": "markdown",
      "source": "you can find my exam under [**this link**](https://github.com/999GIT/Course_Test.git)",
      "metadata": {}
    },
    {
      "cell_type": "markdown",
      "source": "",
      "metadata": {}
    }
  ]
}